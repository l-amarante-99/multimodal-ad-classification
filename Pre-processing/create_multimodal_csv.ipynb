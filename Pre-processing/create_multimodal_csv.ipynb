{
 "cells": [
  {
   "cell_type": "markdown",
   "id": "fb061369-fb86-4e28-931b-7fef5d876e66",
   "metadata": {},
   "source": [
    "Create a merged csv for the late fusion model:"
   ]
  },
  {
   "cell_type": "code",
   "execution_count": 1,
   "id": "4913d2cc-4c4b-4256-9360-02e236f8fe47",
   "metadata": {},
   "outputs": [],
   "source": [
    "import pandas as pd"
   ]
  },
  {
   "cell_type": "code",
   "execution_count": 2,
   "id": "1db77a66-fbab-40be-81bd-9ec28bd558b6",
   "metadata": {},
   "outputs": [],
   "source": [
    "mri_csv = \"/home/lude14/bachelorarbeit/MRI_CNN/MRI_DIAGNOSIS.csv\"\n",
    "clinical_csv = \"/home/lude14/bachelorarbeit/MRI_CNN/clinical-maddi-2.csv\""
   ]
  },
  {
   "cell_type": "code",
   "execution_count": 3,
   "id": "2d23071a-2ac9-4e71-bc36-2c72961312cb",
   "metadata": {},
   "outputs": [],
   "source": [
    "mri_df = pd.read_csv(mri_csv, dtype={\"RID\": str})\n",
    "clinical_df = pd.read_csv(clinical_csv)"
   ]
  },
  {
   "cell_type": "code",
   "execution_count": 6,
   "id": "f545bc35-d8f7-42b8-bf08-4aec375985eb",
   "metadata": {},
   "outputs": [
    {
     "data": {
      "text/plain": [
       "array([0, 1])"
      ]
     },
     "execution_count": 6,
     "metadata": {},
     "output_type": "execute_result"
    }
   ],
   "source": [
    "mri_df[\"Diagnosis_Code\"].unique()"
   ]
  },
  {
   "cell_type": "code",
   "execution_count": 5,
   "id": "8ab28c35-73c7-4cc4-ab74-459ea9c4cab5",
   "metadata": {},
   "outputs": [],
   "source": [
    "mri_df = mri_df[mri_df[\"Diagnosis_Code\"].isin([0, 2])].copy()\n",
    "mri_df[\"EXAMDATE\"] = pd.to_datetime(mri_df[\"EXAMDATE\"])\n",
    "mri_df[\"Diagnosis_Code\"] = mri_df[\"Diagnosis_Code\"].replace({2: 1})"
   ]
  },
  {
   "cell_type": "code",
   "execution_count": 9,
   "id": "0fdae2e9-6a3f-4e24-9f67-53b7036f6dd2",
   "metadata": {},
   "outputs": [
    {
     "data": {
      "text/plain": [
       "Index(['PTID', 'EXAMDATE', 'Diagnosis_Code'], dtype='object')"
      ]
     },
     "execution_count": 9,
     "metadata": {},
     "output_type": "execute_result"
    }
   ],
   "source": [
    "mri_df.columns"
   ]
  },
  {
   "cell_type": "code",
   "execution_count": 8,
   "id": "c4040c0f-e424-4227-9134-010bef7e7022",
   "metadata": {},
   "outputs": [],
   "source": [
    "mri_cols_to_keep = [\"PTID\", \"EXAMDATE\", \"Diagnosis_Code\"]\n",
    "mri_df = mri_df[[col for col in mri_df.columns if col in mri_cols_to_keep]]"
   ]
  },
  {
   "cell_type": "code",
   "execution_count": 14,
   "id": "96e7f290-0c35-46b3-aeaa-9daa3a26332a",
   "metadata": {},
   "outputs": [
    {
     "data": {
      "text/plain": [
       "Index(['PTID', 'label', 'NXVISUAL', 'NXAUDITO', 'NXTREMOR', 'NXCONSCI',\n",
       "       'NXNERVE', 'NXMOTOR', 'NXFINGER', 'NXHEEL', 'NXSENSOR', 'NXTENDON',\n",
       "       'NXPLANTA', 'NXGAIT', 'NXABNORM', 'MMSCORE'],\n",
       "      dtype='object')"
      ]
     },
     "execution_count": 14,
     "metadata": {},
     "output_type": "execute_result"
    }
   ],
   "source": [
    "clinical_df.columns"
   ]
  },
  {
   "cell_type": "code",
   "execution_count": 11,
   "id": "c54dedd1-ec8b-4afb-9241-90110ea39b15",
   "metadata": {},
   "outputs": [
    {
     "data": {
      "text/plain": [
       "array([0, 1])"
      ]
     },
     "execution_count": 11,
     "metadata": {},
     "output_type": "execute_result"
    }
   ],
   "source": [
    "clinical_df[\"label\"].unique()"
   ]
  },
  {
   "cell_type": "code",
   "execution_count": 13,
   "id": "c3ca2d4a-8624-4d83-aab1-384e1c5d9747",
   "metadata": {},
   "outputs": [],
   "source": [
    "clinical_df = clinical_df.drop(columns=[\"RID\"], errors=\"ignore\")"
   ]
  },
  {
   "cell_type": "code",
   "execution_count": 15,
   "id": "e75c9636-f488-40a3-af15-8c1315ca049c",
   "metadata": {},
   "outputs": [],
   "source": [
    "merged = pd.merge(mri_df, clinical_df, on=\"PTID\", how=\"inner\")"
   ]
  },
  {
   "cell_type": "code",
   "execution_count": 16,
   "id": "ea08ba7d-3e15-4ed4-b2e0-71f0ce0f8809",
   "metadata": {},
   "outputs": [
    {
     "data": {
      "text/plain": [
       "Index(['PTID', 'EXAMDATE', 'Diagnosis_Code', 'label', 'NXVISUAL', 'NXAUDITO',\n",
       "       'NXTREMOR', 'NXCONSCI', 'NXNERVE', 'NXMOTOR', 'NXFINGER', 'NXHEEL',\n",
       "       'NXSENSOR', 'NXTENDON', 'NXPLANTA', 'NXGAIT', 'NXABNORM', 'MMSCORE'],\n",
       "      dtype='object')"
      ]
     },
     "execution_count": 16,
     "metadata": {},
     "output_type": "execute_result"
    }
   ],
   "source": [
    "merged.columns"
   ]
  },
  {
   "cell_type": "code",
   "execution_count": 17,
   "id": "38e75a1c-fa3d-4375-85d0-edb4f250acd9",
   "metadata": {},
   "outputs": [],
   "source": [
    "merged = merged.drop(columns=[\"label\"], errors=\"ignore\")"
   ]
  },
  {
   "cell_type": "code",
   "execution_count": 18,
   "id": "72185671-915d-4635-8e1e-0f37385dd3fb",
   "metadata": {},
   "outputs": [
    {
     "data": {
      "text/plain": [
       "array([False])"
      ]
     },
     "execution_count": 18,
     "metadata": {},
     "output_type": "execute_result"
    }
   ],
   "source": [
    "merged[\"Diagnosis_Code\"].isna().unique()"
   ]
  },
  {
   "cell_type": "code",
   "execution_count": 19,
   "id": "0f929e04-090e-4601-afa5-e95e4f09bb23",
   "metadata": {},
   "outputs": [],
   "source": [
    "output_csv = \"/home/lude14/bachelorarbeit/MRI_CNN/merged_multimodal.csv\"\n",
    "merged.to_csv(output_csv, index=False)"
   ]
  },
  {
   "cell_type": "code",
   "execution_count": 20,
   "id": "19514a6a-f0d6-4f2d-ad7d-ed5f4e68fca1",
   "metadata": {},
   "outputs": [],
   "source": [
    "df = pd.read_csv(\"merged_multimodal.csv\")"
   ]
  },
  {
   "cell_type": "code",
   "execution_count": 22,
   "id": "bd96d084-0be6-4bb5-94df-da15a9e13534",
   "metadata": {},
   "outputs": [
    {
     "name": "stdout",
     "output_type": "stream",
     "text": [
      "Input dim: 14\n"
     ]
    }
   ],
   "source": [
    "clinical_cols = [col for col in df.columns if col not in [\"PTID\", \"EXAMDATE\", \"Diagnosis_Code\"]]\n",
    "print(\"Input dim:\", len(clinical_cols))"
   ]
  }
 ],
 "metadata": {
  "kernelspec": {
   "display_name": "Python [conda env:conda_envs-compute-conda]",
   "language": "python",
   "name": "conda-env-conda_envs-compute-conda-py"
  },
  "language_info": {
   "codemirror_mode": {
    "name": "ipython",
    "version": 3
   },
   "file_extension": ".py",
   "mimetype": "text/x-python",
   "name": "python",
   "nbconvert_exporter": "python",
   "pygments_lexer": "ipython3",
   "version": "3.10.8"
  }
 },
 "nbformat": 4,
 "nbformat_minor": 5
}
