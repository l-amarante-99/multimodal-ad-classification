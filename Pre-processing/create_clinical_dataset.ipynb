{
 "cells": [
  {
   "cell_type": "markdown",
   "id": "f5b57070-336c-4d77-aaa2-b7c3f9dad6d0",
   "metadata": {},
   "source": [
    "Creating the Clinical Dataset:"
   ]
  },
  {
   "cell_type": "code",
   "execution_count": 9,
   "id": "6cfd763c",
   "metadata": {},
   "outputs": [],
   "source": [
    "import pandas as pd\n",
    "import numpy as np\n",
    "import matplotlib.pyplot as plt"
   ]
  },
  {
   "cell_type": "markdown",
   "id": "9fad6729-8153-4522-8294-8e329b85d6f9",
   "metadata": {},
   "source": [
    "Diagnostics:"
   ]
  },
  {
   "cell_type": "code",
   "execution_count": 3,
   "id": "4b2bf397-16cf-4283-8235-13e6301bf49b",
   "metadata": {},
   "outputs": [],
   "source": [
    "diag = pd.read_csv(\"/home/lude14/bachelorarbeit/MRI_CNN/MRI_DIAGNOSIS.csv\")"
   ]
  },
  {
   "cell_type": "code",
   "execution_count": null,
   "id": "2b529d22-5566-4465-a5ed-9ca84ba4119b",
   "metadata": {},
   "outputs": [],
   "source": [
    "diag.head()"
   ]
  },
  {
   "cell_type": "code",
   "execution_count": 5,
   "id": "9e0ee718-aeea-48a5-bf5f-0f83b39b23a8",
   "metadata": {},
   "outputs": [
    {
     "data": {
      "text/plain": [
       "Index(['PHASE', 'PTID', 'RID', 'VISCODE', 'VISCODE2', 'EXAMDATE',\n",
       "       'FIELD_STRENGTH', 'RECNO', 'MMCONDCT', 'MMREASON', 'MMSCOUT',\n",
       "       'MMSMPRAGE', 'MMRMPRAGE', 'MMB1HEAD', 'MMB1BODY', 'MMECHO', 'MMPHAN',\n",
       "       'MMTRNSFR', 'MMTRNDATE', 'MMTRNDATEYR_DRVD', 'MMARCHIVE', 'MMLPDONE',\n",
       "       'MMLPINTER', 'SEDATIVE', 'OTRDEV', 'MOTION', 'EYEKEEP', 'EYEASK',\n",
       "       'MALFUNC', 'FLDSTRNGTH', 'ID', 'SITEID', 'USERDATE', 'USERDATE2',\n",
       "       'UPDATE_STAMP', 'DIAGNOSIS', 'Diagnosis_Code'],\n",
       "      dtype='object')"
      ]
     },
     "execution_count": 5,
     "metadata": {},
     "output_type": "execute_result"
    }
   ],
   "source": [
    "diag.columns"
   ]
  },
  {
   "cell_type": "code",
   "execution_count": null,
   "id": "ba32707c-0752-463d-8706-1151e3671928",
   "metadata": {},
   "outputs": [],
   "source": [
    "keep_cols = [\"PTID\", \"RID\", \"EXAMDATE\", \"Diagnosis_Code\"]\n",
    "\n",
    "diag = diag[keep_cols].copy()\n",
    "diag.head()"
   ]
  },
  {
   "cell_type": "markdown",
   "id": "c39a48d8-1389-417c-bb2c-095d1ebf21b2",
   "metadata": {},
   "source": [
    "Demografics:"
   ]
  },
  {
   "cell_type": "code",
   "execution_count": 7,
   "id": "fa4b7bb4-4f1c-4dfe-94f6-bff26f6e155c",
   "metadata": {},
   "outputs": [],
   "source": [
    "demo = pd.read_csv(\"/sc-projects/sc-proj-ukb-cvd/projects/theses/data/adni/Clinical_Data/MRI/MRI_PTDEMOG_13Apr2025.csv\")"
   ]
  },
  {
   "cell_type": "code",
   "execution_count": null,
   "id": "6b8baad3-66a6-4109-b99d-2870f3b4ba4c",
   "metadata": {},
   "outputs": [],
   "source": [
    "demo.head()"
   ]
  },
  {
   "cell_type": "code",
   "execution_count": 9,
   "id": "99c495a4-bd42-451f-92ac-8b7035e745f7",
   "metadata": {},
   "outputs": [
    {
     "data": {
      "text/plain": [
       "Index(['PHASE', 'PTID', 'RID', 'VISCODE', 'VISCODE2', 'VISDATE', 'PTSOURCE',\n",
       "       'PTGENDER', 'PTDOB', 'PTDOBYY', 'PTHAND', 'PTMARRY', 'PTEDUCAT',\n",
       "       'PTWORKHS', 'PTWORK', 'PTNOTRT', 'PTRTYR', 'PTHOME', 'PTTLANG',\n",
       "       'PTPLANG', 'PTADBEG', 'PTCOGBEG', 'PTADDX', 'PTETHCAT', 'PTRACCAT',\n",
       "       'PTIDENT', 'PTORIENT', 'PTORIENTOT', 'PTENGSPK', 'PTNLANG',\n",
       "       'PTENGSPKAGE', 'PTCLANG', 'PTLANGSP', 'PTLANGWR', 'PTSPTIM',\n",
       "       'PTSPOTTIM', 'PTLANGPR1', 'PTLANGSP1', 'PTLANGRD1', 'PTLANGWR1',\n",
       "       'PTLANGUN1', 'PTLANGPR2', 'PTLANGSP2', 'PTLANGRD2', 'PTLANGWR2',\n",
       "       'PTLANGUN2', 'PTLANGPR3', 'PTLANGSP3', 'PTLANGRD3', 'PTLANGWR3',\n",
       "       'PTLANGUN3', 'PTLANGPR4', 'PTLANGSP4', 'PTLANGRD4', 'PTLANGWR4',\n",
       "       'PTLANGUN4', 'PTLANGPR5', 'PTLANGSP5', 'PTLANGRD5', 'PTLANGWR5',\n",
       "       'PTLANGUN5', 'PTLANGPR6', 'PTLANGSP6', 'PTLANGRD6', 'PTLANGWR6',\n",
       "       'PTLANGUN6', 'PTLANGTTL', 'PTETHCATH', 'PTASIAN', 'PTOPI', 'PTBORN',\n",
       "       'PTBIRPL', 'PTIMMAGE', 'PTIMMWHY', 'PTBIRPR', 'PTBIRGR', 'ID', 'SITEID',\n",
       "       'USERDATE', 'USERDATE2', 'DD_CRF_VERSION_LABEL', 'LANGUAGE_CODE',\n",
       "       'HAS_QC_ERROR', 'update_stamp'],\n",
       "      dtype='object')"
      ]
     },
     "execution_count": 9,
     "metadata": {},
     "output_type": "execute_result"
    }
   ],
   "source": [
    "demo.columns"
   ]
  },
  {
   "cell_type": "code",
   "execution_count": null,
   "id": "860c494b-09ac-40fc-9031-54c2dff11a0c",
   "metadata": {},
   "outputs": [],
   "source": [
    "keep_cols = [\"PTID\", \"RID\", \"PTGENDER\", \"PTDOBYY\", \"PTEDUCAT\", \"PTETHCAT\", \"PTRACCAT\", \"VISDATE\"]\n",
    "\n",
    "demo = demo[keep_cols].copy()\n",
    "demo.head()"
   ]
  },
  {
   "cell_type": "markdown",
   "id": "94a6bc28-6ca1-4553-a603-fac618c5aa5a",
   "metadata": {},
   "source": [
    "Neurological Exam:"
   ]
  },
  {
   "cell_type": "code",
   "execution_count": 11,
   "id": "84188e78-fcfd-4bb2-ae93-8cba7dc6adea",
   "metadata": {},
   "outputs": [],
   "source": [
    "neuro = pd.read_csv(\"/sc-projects/sc-proj-ukb-cvd/projects/theses/data/adni/Clinical_Data/MRI/MRI_NEUROEXM_13Apr2025.csv\")"
   ]
  },
  {
   "cell_type": "code",
   "execution_count": null,
   "id": "dfe73dfa-d1c9-4a58-b644-d61cb74783d6",
   "metadata": {},
   "outputs": [],
   "source": [
    "neuro.head()"
   ]
  },
  {
   "cell_type": "code",
   "execution_count": 13,
   "id": "118f33f7-1cb6-4a94-9a14-520c4eb3cc0b",
   "metadata": {},
   "outputs": [
    {
     "data": {
      "text/plain": [
       "Index(['PHASE', 'PTID', 'RID', 'VISCODE', 'VISCODE2', 'VISDATE', 'NXVISUAL',\n",
       "       'NXAUDITO', 'NXTREMOR', 'NXCONSCI', 'NXNERVE', 'NXMOTOR', 'NXFINGER',\n",
       "       'NXHEEL', 'NXSENSOR', 'NXTENDON', 'NXPLANTA', 'NXGAIT', 'NXOTHER',\n",
       "       'NXABNORM', 'ID', 'SITEID', 'USERDATE', 'USERDATE2',\n",
       "       'DD_CRF_VERSION_LABEL', 'LANGUAGE_CODE', 'HAS_QC_ERROR',\n",
       "       'update_stamp'],\n",
       "      dtype='object')"
      ]
     },
     "execution_count": 13,
     "metadata": {},
     "output_type": "execute_result"
    }
   ],
   "source": [
    "neuro.columns"
   ]
  },
  {
   "cell_type": "code",
   "execution_count": null,
   "id": "ae129458-0b59-4a70-ba57-70c416ae0a3a",
   "metadata": {},
   "outputs": [],
   "source": [
    "keep_cols = [\"PTID\", \"RID\", \"NXVISUAL\", \"NXAUDITO\", \"NXTREMOR\", \"NXCONSCI\", \"NXNERVE\",\n",
    "    \"NXMOTOR\", \"NXFINGER\", \"NXHEEL\", \"NXSENSOR\", \"NXTENDON\",\n",
    "    \"NXPLANTA\", \"NXGAIT\", \"NXABNORM\", \"VISDATE\"\n",
    "]\n",
    "\n",
    "neuro = neuro[keep_cols].copy()\n",
    "neuro.head()"
   ]
  },
  {
   "cell_type": "markdown",
   "id": "c9e2d053-b973-43b6-84b1-20f2647378b4",
   "metadata": {},
   "source": [
    "ADAS Sub-Scores and Total Scores:"
   ]
  },
  {
   "cell_type": "code",
   "execution_count": 15,
   "id": "6a8543a8-c2c3-428d-92dd-ee610af97411",
   "metadata": {},
   "outputs": [],
   "source": [
    "adas = pd.read_csv(\"/sc-projects/sc-proj-ukb-cvd/projects/theses/data/adni/Clinical_Data/MRI/MRI_ADASSCORES_13Apr2025.csv\")"
   ]
  },
  {
   "cell_type": "code",
   "execution_count": null,
   "id": "327d29ed-7814-4f34-a038-73a8cb539357",
   "metadata": {},
   "outputs": [],
   "source": [
    "adas.head()"
   ]
  },
  {
   "cell_type": "code",
   "execution_count": 17,
   "id": "35c9f2b8-207c-4abf-928c-cc70dd13892b",
   "metadata": {},
   "outputs": [
    {
     "data": {
      "text/plain": [
       "Index(['PHASE', 'RID', 'PTID', 'VISCODE', 'VISCODE2', 'EXAMDATE', 'Q1', 'Q2',\n",
       "       'Q3', 'Q4', 'Q5', 'Q6', 'Q7', 'Q8', 'Q9', 'Q10', 'Q11', 'Q12', 'Q14',\n",
       "       'TOTAL11', 'TOTALMOD', 'ID', 'SITEID', 'USERDATE', 'USERDATE2',\n",
       "       'update_stamp'],\n",
       "      dtype='object')"
      ]
     },
     "execution_count": 17,
     "metadata": {},
     "output_type": "execute_result"
    }
   ],
   "source": [
    "adas.columns"
   ]
  },
  {
   "cell_type": "code",
   "execution_count": null,
   "id": "69d3241e-d3cd-4af4-9486-b7a29ff9cfdb",
   "metadata": {},
   "outputs": [],
   "source": [
    "keep_cols = [\"PTID\", \"RID\", \"TOTAL11\", \"TOTALMOD\", \"EXAMDATE\"]\n",
    "\n",
    "adas = adas[keep_cols].copy()\n",
    "adas.head()"
   ]
  },
  {
   "cell_type": "markdown",
   "id": "8d0c05fe-bd09-4095-9383-ba17d27c118b",
   "metadata": {},
   "source": [
    "Mini-Mental State Examination (MMSE)"
   ]
  },
  {
   "cell_type": "code",
   "execution_count": 19,
   "id": "be523226-d902-480c-a32c-53420c31c4f3",
   "metadata": {},
   "outputs": [],
   "source": [
    "mmse = pd.read_csv(\"/sc-projects/sc-proj-ukb-cvd/projects/theses/data/adni/Clinical_Data/MRI/MRI_MMSE_13Apr2025.csv\")"
   ]
  },
  {
   "cell_type": "code",
   "execution_count": null,
   "id": "96562345-d876-4f50-af63-add6a83a8276",
   "metadata": {},
   "outputs": [],
   "source": [
    "mmse.head()"
   ]
  },
  {
   "cell_type": "code",
   "execution_count": 21,
   "id": "2c35e150-9931-45ca-8876-6b28ef6c7de1",
   "metadata": {},
   "outputs": [
    {
     "data": {
      "text/plain": [
       "Index(['PHASE', 'PTID', 'RID', 'VISCODE', 'VISCODE2', 'VISDATE', 'DONE',\n",
       "       'NDREASON', 'SOURCE', 'MMDATE', 'MMYEAR', 'MMMONTH', 'MMDAY',\n",
       "       'MMSEASON', 'MMHOSPIT', 'MMFLOOR', 'MMCITY', 'MMAREA', 'MMSTATE',\n",
       "       'WORDLIST', 'WORD1', 'WORD2', 'WORD3', 'MMTRIALS', 'MMD', 'MML', 'MMR',\n",
       "       'MMO', 'MMW', 'MMLTR1', 'MMLTR2', 'MMLTR3', 'MMLTR4', 'MMLTR5',\n",
       "       'MMLTR6', 'MMLTR7', 'WORLDSCORE', 'WORD1DL', 'WORD2DL', 'WORD3DL',\n",
       "       'MMWATCH', 'MMPENCIL', 'MMREPEAT', 'MMHAND', 'MMFOLD', 'MMONFLR',\n",
       "       'MMREAD', 'MMWRITE', 'MMDRAW', 'MMSCORE', 'ID', 'SITEID', 'USERDATE',\n",
       "       'USERDATE2', 'DD_CRF_VERSION_LABEL', 'LANGUAGE_CODE', 'HAS_QC_ERROR',\n",
       "       'update_stamp'],\n",
       "      dtype='object')"
      ]
     },
     "execution_count": 21,
     "metadata": {},
     "output_type": "execute_result"
    }
   ],
   "source": [
    "mmse.columns"
   ]
  },
  {
   "cell_type": "code",
   "execution_count": null,
   "id": "103a47af-2a7f-4383-986e-1f2af6c0b68c",
   "metadata": {},
   "outputs": [],
   "source": [
    "keep_cols = [\"PTID\", \"RID\", \"MMSCORE\", \"VISDATE\"]\n",
    "\n",
    "mmse = mmse[keep_cols].copy()\n",
    "mmse.head()"
   ]
  },
  {
   "cell_type": "markdown",
   "id": "65883eda-f021-45fb-afae-c68be7d4e60c",
   "metadata": {},
   "source": [
    "Clinical Dementia Rating:"
   ]
  },
  {
   "cell_type": "code",
   "execution_count": 23,
   "id": "8735db79-fb84-42eb-bb29-cfd6ddee9af9",
   "metadata": {},
   "outputs": [],
   "source": [
    "cdr = pd.read_csv(\"/sc-projects/sc-proj-ukb-cvd/projects/theses/data/adni/Clinical_Data/MRI/MRI_CDR_13Apr2025.csv\")"
   ]
  },
  {
   "cell_type": "code",
   "execution_count": null,
   "id": "fe6eadf0-895a-42e9-92f9-d63d3c91fd9d",
   "metadata": {},
   "outputs": [],
   "source": [
    "cdr.head()"
   ]
  },
  {
   "cell_type": "code",
   "execution_count": 25,
   "id": "b2f2e360-1f82-4d29-b4f4-bf0c26464afb",
   "metadata": {},
   "outputs": [
    {
     "data": {
      "text/plain": [
       "Index(['PHASE', 'PTID', 'RID', 'VISCODE', 'VISCODE2', 'VISDATE', 'CDSOURCE',\n",
       "       'CDVERSION', 'SPID', 'CDMEMORY', 'CDORIENT', 'CDJUDGE', 'CDCOMMUN',\n",
       "       'CDHOME', 'CDCARE', 'CDGLOBAL', 'CDRSB', 'ID', 'SITEID', 'USERDATE',\n",
       "       'USERDATE2', 'DD_CRF_VERSION_LABEL', 'LANGUAGE_CODE', 'HAS_QC_ERROR',\n",
       "       'update_stamp'],\n",
       "      dtype='object')"
      ]
     },
     "execution_count": 25,
     "metadata": {},
     "output_type": "execute_result"
    }
   ],
   "source": [
    "cdr.columns"
   ]
  },
  {
   "cell_type": "code",
   "execution_count": null,
   "id": "09f07e10-576e-4df8-8dc8-b5d53b460755",
   "metadata": {},
   "outputs": [],
   "source": [
    "keep_cols = [\"PTID\", \"RID\", \"CDRSB\", \"VISDATE\"]\n",
    "\n",
    "cdr = cdr[keep_cols].copy()\n",
    "cdr.head()"
   ]
  },
  {
   "cell_type": "markdown",
   "id": "33472558-04ca-45ee-aa0c-c0c685645e02",
   "metadata": {},
   "source": [
    "Functional Activities Questionnaire (FAQ):"
   ]
  },
  {
   "cell_type": "code",
   "execution_count": 27,
   "id": "2a0d34d9-e2ce-4722-af76-a67bb37e7e0b",
   "metadata": {},
   "outputs": [],
   "source": [
    "faq = pd.read_csv(\"/sc-projects/sc-proj-ukb-cvd/projects/theses/data/adni/Clinical_Data/MRI/MRI_FAQ_13Apr2025.csv\")"
   ]
  },
  {
   "cell_type": "code",
   "execution_count": null,
   "id": "ba5aa939-5356-43dd-a340-d28ea1f4cef2",
   "metadata": {},
   "outputs": [],
   "source": [
    "faq.head()"
   ]
  },
  {
   "cell_type": "code",
   "execution_count": 29,
   "id": "785fe24a-2f1f-443c-8bf9-6c580df0d283",
   "metadata": {},
   "outputs": [
    {
     "data": {
      "text/plain": [
       "Index(['PHASE', 'PTID', 'RID', 'VISCODE', 'VISCODE2', 'VISDATE', 'SOURCE',\n",
       "       'FAQFINAN', 'FAQFORM', 'FAQSHOP', 'FAQGAME', 'FAQBEVG', 'FAQMEAL',\n",
       "       'FAQEVENT', 'FAQTV', 'FAQREM', 'FAQTRAVL', 'FAQTOTAL', 'SPID', 'ID',\n",
       "       'SITEID', 'USERDATE', 'USERDATE2', 'DD_CRF_VERSION_LABEL',\n",
       "       'LANGUAGE_CODE', 'HAS_QC_ERROR', 'update_stamp'],\n",
       "      dtype='object')"
      ]
     },
     "execution_count": 29,
     "metadata": {},
     "output_type": "execute_result"
    }
   ],
   "source": [
    "faq.columns"
   ]
  },
  {
   "cell_type": "code",
   "execution_count": null,
   "id": "1785e58d-8885-498b-87de-b0b5531af04f",
   "metadata": {},
   "outputs": [],
   "source": [
    "keep_cols = [\"PTID\", \"RID\", \"FAQTOTAL\", \"VISDATE\"]\n",
    "\n",
    "faq = faq[keep_cols].copy()\n",
    "faq.head()"
   ]
  },
  {
   "cell_type": "markdown",
   "id": "0cdf18e8-2968-4215-8ee5-e0aca7c3f11d",
   "metadata": {},
   "source": [
    "Neuropsychological Battery:"
   ]
  },
  {
   "cell_type": "code",
   "execution_count": 31,
   "id": "1af07c96-f400-4805-93e4-d91820062193",
   "metadata": {},
   "outputs": [],
   "source": [
    "neurobat = pd.read_csv(\"/sc-projects/sc-proj-ukb-cvd/projects/theses/data/adni/Clinical_Data/MRI/MRI_NEUROBAT_13Apr2025.csv\")"
   ]
  },
  {
   "cell_type": "code",
   "execution_count": null,
   "id": "67092707-81e5-4218-9786-3a789dcd5ffd",
   "metadata": {},
   "outputs": [],
   "source": [
    "neurobat.head()"
   ]
  },
  {
   "cell_type": "code",
   "execution_count": 33,
   "id": "7ad77ca4-c910-4dad-b348-ae4574facb6b",
   "metadata": {},
   "outputs": [
    {
     "data": {
      "text/plain": [
       "Index(['PHASE', 'PTID', 'RID', 'VISCODE', 'VISCODE2', 'VISDATE', 'SOURCE',\n",
       "       'CLOCKCIRC', 'CLOCKSYM', 'CLOCKNUM', 'CLOCKHAND', 'CLOCKTIME',\n",
       "       'CLOCKSCOR', 'COPYCIRC', 'COPYSYM', 'COPYNUM', 'COPYHAND', 'COPYTIME',\n",
       "       'COPYSCOR', 'LMSTORY', 'LIMMTOTAL', 'LIMMEND', 'AVTOT1', 'AVERR1',\n",
       "       'AVTOT2', 'AVERR2', 'AVTOT3', 'AVERR3', 'AVTOT4', 'AVERR4', 'AVTOT5',\n",
       "       'AVERR5', 'AVTOT6', 'AVERR6', 'AVTOTB', 'AVERRB', 'AVENDED', 'DSPANFOR',\n",
       "       'DSPANFLTH', 'DSPANBAC', 'DSPANBLTH', 'CATANIMSC', 'CATANPERS',\n",
       "       'CATANINTR', 'CATVEGESC', 'CATVGPERS', 'CATVGINTR', 'TRAASCOR',\n",
       "       'TRAAERRCOM', 'TRAAERROM', 'TRABSCOR', 'TRABERRCOM', 'TRABERROM',\n",
       "       'DIGITSCOR', 'LDELBEGIN', 'LDELTOTAL', 'LDELCUE', 'BNTND', 'BNTSPONT',\n",
       "       'BNTSTIM', 'BNTCSTIM', 'BNTPHON', 'BNTCPHON', 'BNTTOTAL', 'AVDELBEGAN',\n",
       "       'AVDEL30MIN', 'AVDELERR1', 'AVDELTOT', 'AVDELERR2', 'ANARTERR',\n",
       "       'ANARTND', 'ANART', 'MINTSEMCUE', 'MINTTOTAL', 'MINTUNCUED', 'ID',\n",
       "       'SITEID', 'USERDATE', 'USERDATE2', 'DD_CRF_VERSION_LABEL',\n",
       "       'LANGUAGE_CODE', 'HAS_QC_ERROR', 'update_stamp'],\n",
       "      dtype='object')"
      ]
     },
     "execution_count": 33,
     "metadata": {},
     "output_type": "execute_result"
    }
   ],
   "source": [
    "neurobat.columns"
   ]
  },
  {
   "cell_type": "code",
   "execution_count": null,
   "id": "8be941f8-4dec-41c5-b277-2a68a9b892e8",
   "metadata": {},
   "outputs": [],
   "source": [
    "keep_cols = [\"PTID\", \"RID\", \"LDELTOTAL\", \"LIMMTOTAL\", \"VISDATE\"]\n",
    "\n",
    "neurobat = neurobat[keep_cols].copy()\n",
    "neurobat.head()"
   ]
  },
  {
   "cell_type": "markdown",
   "id": "aaded1ca-5c50-4357-9a2c-22e5bf69eb16",
   "metadata": {},
   "source": [
    "Geriatric Depression Scale (GDS):"
   ]
  },
  {
   "cell_type": "code",
   "execution_count": 35,
   "id": "87cd41cb-6b44-4f46-95d7-7f51632496ee",
   "metadata": {},
   "outputs": [],
   "source": [
    "gds = pd.read_csv(\"/sc-projects/sc-proj-ukb-cvd/projects/theses/data/adni/Clinical_Data/MRI/MRI_GDSCALE_13Apr2025.csv\")"
   ]
  },
  {
   "cell_type": "code",
   "execution_count": null,
   "id": "362cc6dd-1c6d-4782-8b23-7dc55ba28ba8",
   "metadata": {},
   "outputs": [],
   "source": [
    "gds.head()"
   ]
  },
  {
   "cell_type": "code",
   "execution_count": 124,
   "id": "a0a13aef-a14a-470b-9860-44d0d4e86f06",
   "metadata": {},
   "outputs": [
    {
     "data": {
      "text/plain": [
       "Index(['PHASE', 'PTID', 'RID', 'VISCODE', 'VISCODE2', 'VISDATE', 'SOURCE',\n",
       "       'GDUNABL', 'GDSATIS', 'GDDROP', 'GDEMPTY', 'GDBORED', 'GDSPIRIT',\n",
       "       'GDAFRAID', 'GDHAPPY', 'GDHELP', 'GDHOME', 'GDMEMORY', 'GDALIVE',\n",
       "       'GDWORTH', 'GDENERGY', 'GDHOPE', 'GDBETTER', 'GDTOTAL', 'ID', 'SITEID',\n",
       "       'USERDATE', 'USERDATE2', 'DD_CRF_VERSION_LABEL', 'LANGUAGE_CODE',\n",
       "       'HAS_QC_ERROR', 'update_stamp'],\n",
       "      dtype='object')"
      ]
     },
     "execution_count": 124,
     "metadata": {},
     "output_type": "execute_result"
    }
   ],
   "source": [
    "gds.columns"
   ]
  },
  {
   "cell_type": "code",
   "execution_count": null,
   "id": "58138276-e40c-4b79-8f52-c150a6b781f9",
   "metadata": {},
   "outputs": [],
   "source": [
    "keep_cols = [\"PTID\", \"RID\", \"GDTOTAL\", \"VISDATE\"]\n",
    "\n",
    "gds = gds[keep_cols].copy()\n",
    "gds.head()"
   ]
  },
  {
   "cell_type": "markdown",
   "id": "eacdc445-c461-4e9f-bbcb-bdb76d37844f",
   "metadata": {},
   "source": [
    "Modified Hachinski Ischemia Scale:"
   ]
  },
  {
   "cell_type": "code",
   "execution_count": 38,
   "id": "335d9363-523d-4952-98e6-d1b039964b37",
   "metadata": {},
   "outputs": [],
   "source": [
    "modhach = pd.read_csv(\"/sc-projects/sc-proj-ukb-cvd/projects/theses/data/adni/Clinical_Data/MRI/MRI_MODHACH_13Apr2025.csv\")"
   ]
  },
  {
   "cell_type": "code",
   "execution_count": null,
   "id": "8b5b1ee6-f062-42fc-863d-39fc07e77bed",
   "metadata": {},
   "outputs": [],
   "source": [
    "modhach.head()"
   ]
  },
  {
   "cell_type": "code",
   "execution_count": 128,
   "id": "4b477d16-8ff4-4111-8dcc-d0ff90a0e0a6",
   "metadata": {},
   "outputs": [
    {
     "data": {
      "text/plain": [
       "Index(['PHASE', 'PTID', 'RID', 'VISCODE', 'VISCODE2', 'VISDATE', 'HMONSET',\n",
       "       'HMSTEPWS', 'HMSOMATC', 'HMEMOTIO', 'HMHYPERT', 'HMSTROKE', 'HMNEURSM',\n",
       "       'HMNEURSG', 'HMSCORE', 'SOURCE', 'ID', 'SITEID', 'USERDATE',\n",
       "       'USERDATE2', 'update_stamp'],\n",
       "      dtype='object')"
      ]
     },
     "execution_count": 128,
     "metadata": {},
     "output_type": "execute_result"
    }
   ],
   "source": [
    "modhach.columns"
   ]
  },
  {
   "cell_type": "code",
   "execution_count": null,
   "id": "5cfa43da-2538-4f49-a087-6150dda4b6bd",
   "metadata": {},
   "outputs": [],
   "source": [
    "keep_cols = [\"PTID\", \"RID\", \"HMSCORE\", \"VISDATE\"]\n",
    "\n",
    "modhach = modhach[keep_cols].copy()\n",
    "modhach.head()"
   ]
  },
  {
   "cell_type": "markdown",
   "id": "c4280217-de22-4a5d-8f8d-1f24ed0ee6dd",
   "metadata": {},
   "source": [
    "Medical History:"
   ]
  },
  {
   "cell_type": "code",
   "execution_count": 41,
   "id": "9b5ed8de-b1e7-4980-8d47-533d0fcf4e88",
   "metadata": {},
   "outputs": [],
   "source": [
    "medhist = pd.read_csv(\"/sc-projects/sc-proj-ukb-cvd/projects/theses/data/adni/Clinical_Data/MRI/MRI_MEDHIST_13Apr2025.csv\")"
   ]
  },
  {
   "cell_type": "code",
   "execution_count": null,
   "id": "a365e2f5-7ecb-44f5-8f8a-d4e429588b41",
   "metadata": {},
   "outputs": [],
   "source": [
    "medhist.head()"
   ]
  },
  {
   "cell_type": "code",
   "execution_count": 43,
   "id": "c30800b0-d30d-4d0e-b920-8bd97d8841fa",
   "metadata": {},
   "outputs": [
    {
     "data": {
      "text/plain": [
       "Index(['PHASE', 'PTID', 'RID', 'VISCODE', 'VISCODE2', 'VISDATE', 'MHSOURCE',\n",
       "       'MHPSYCH', 'MH2NEURL', 'MH3HEAD', 'MH4CARD', 'MH5RESP', 'MH6HEPAT',\n",
       "       'MH7DERM', 'MH8MUSCL', 'MH9ENDO', 'MH10GAST', 'MH11HEMA', 'MH12RENA',\n",
       "       'MH13ALLE', 'MH14ALCH', 'MH14AALCH', 'MH14BALCH', 'MH14CALCH',\n",
       "       'MH15DRUG', 'MH15ADRUG', 'MH15BDRUG', 'MH16SMOK', 'MH16ASMOK',\n",
       "       'MH16BSMOK', 'MH16CSMOK', 'MH17MALI', 'MH18SURG', 'MH19OTHR', 'ID',\n",
       "       'SITEID', 'USERDATE', 'USERDATE2', 'update_stamp'],\n",
       "      dtype='object')"
      ]
     },
     "execution_count": 43,
     "metadata": {},
     "output_type": "execute_result"
    }
   ],
   "source": [
    "medhist.columns"
   ]
  },
  {
   "cell_type": "code",
   "execution_count": null,
   "id": "3ad0b1dd-5d1d-4e79-8535-6dba30351f06",
   "metadata": {},
   "outputs": [],
   "source": [
    "keep_cols = [\"PTID\", \"RID\", \"MH4CARD\", \"MH5RESP\", \"VISDATE\"]\n",
    "\n",
    "medhist = medhist[keep_cols].copy()\n",
    "medhist.head()"
   ]
  },
  {
   "cell_type": "markdown",
   "id": "ebc5e46b-d020-429a-8e54-b307491c1f1d",
   "metadata": {},
   "source": [
    "Neuropsychiatric Inventory Questionnaire (NPI-Q):"
   ]
  },
  {
   "cell_type": "code",
   "execution_count": 45,
   "id": "b19ddbf1-4b03-4340-889a-1fa322cd9055",
   "metadata": {},
   "outputs": [],
   "source": [
    "npiq = pd.read_csv(\"/sc-projects/sc-proj-ukb-cvd/projects/theses/data/adni/Clinical_Data/MRI/MRI_NPIQ_13Apr2025.csv\")"
   ]
  },
  {
   "cell_type": "code",
   "execution_count": null,
   "id": "801fb7fb-43a3-4086-83c4-158c3596391e",
   "metadata": {},
   "outputs": [],
   "source": [
    "npiq.head()"
   ]
  },
  {
   "cell_type": "code",
   "execution_count": 47,
   "id": "83ef6ad9-47cd-4648-8e4c-51714858aea9",
   "metadata": {},
   "outputs": [
    {
     "data": {
      "text/plain": [
       "Index(['PHASE', 'PTID', 'RID', 'VISCODE', 'VISCODE2', 'VISDATE', 'SOURCE',\n",
       "       'NPIA', 'NPIASEV', 'NPIB', 'NPIBSEV', 'NPIC', 'NPICSEV', 'NPID',\n",
       "       'NPIDSEV', 'NPIE', 'NPIESEV', 'NPIF', 'NPIFSEV', 'NPIG', 'NPIGSEV',\n",
       "       'NPIH', 'NPIHSEV', 'NPII', 'NPIISEV', 'NPIJ', 'NPIJSEV', 'NPIK',\n",
       "       'NPIKSEV', 'NPIL', 'NPILSEV', 'NPISCORE', 'SPID', 'ID', 'SITEID',\n",
       "       'USERDATE', 'USERDATE2', 'DD_CRF_VERSION_LABEL', 'LANGUAGE_CODE',\n",
       "       'HAS_QC_ERROR', 'update_stamp'],\n",
       "      dtype='object')"
      ]
     },
     "execution_count": 47,
     "metadata": {},
     "output_type": "execute_result"
    }
   ],
   "source": [
    "npiq.columns"
   ]
  },
  {
   "cell_type": "code",
   "execution_count": null,
   "id": "301c56db-1f43-44cf-8b0c-26da2445ca12",
   "metadata": {},
   "outputs": [],
   "source": [
    "keep_cols = [\"PTID\", \"RID\", \"NPISCORE\", \"VISDATE\"]\n",
    "\n",
    "npiq = npiq[keep_cols].copy()\n",
    "npiq.head()"
   ]
  },
  {
   "cell_type": "markdown",
   "id": "d16f6ca9-b997-4b7a-9cf1-4bb5087d06df",
   "metadata": {},
   "source": [
    "ApoE Genotyping Results:"
   ]
  },
  {
   "cell_type": "code",
   "execution_count": 49,
   "id": "56857037-e142-471d-bd44-f5bcc83a2041",
   "metadata": {},
   "outputs": [],
   "source": [
    "apoe = pd.read_csv(\"/sc-projects/sc-proj-ukb-cvd/projects/theses/data/adni/Clinical_Data/MRI/MRI_APOERES_13Apr2025.csv\")"
   ]
  },
  {
   "cell_type": "code",
   "execution_count": null,
   "id": "2fd863a0-02ea-4dca-b380-5a1f54a0cb22",
   "metadata": {},
   "outputs": [],
   "source": [
    "apoe.head()"
   ]
  },
  {
   "cell_type": "code",
   "execution_count": 51,
   "id": "620493d9-b94a-4015-8c40-6c6a3e879b92",
   "metadata": {},
   "outputs": [
    {
     "data": {
      "text/plain": [
       "Index(['PHASE', 'PTID', 'RID', 'VISCODE', 'GENOTYPE', 'APTESTDT', 'APVOLUME',\n",
       "       'APRECEIVE', 'APAMBTEMP', 'APRESAMP', 'APUSABLE', 'ID', 'SITEID',\n",
       "       'USERDATE', 'USERDATE2', 'update_stamp'],\n",
       "      dtype='object')"
      ]
     },
     "execution_count": 51,
     "metadata": {},
     "output_type": "execute_result"
    }
   ],
   "source": [
    "apoe.columns"
   ]
  },
  {
   "cell_type": "code",
   "execution_count": null,
   "id": "dba4d83a-2fc0-444b-8b3b-1c7682f79a1b",
   "metadata": {},
   "outputs": [],
   "source": [
    "keep_cols = [\"PTID\", \"RID\", \"GENOTYPE\"]\n",
    "\n",
    "apoe = apoe[keep_cols].copy()\n",
    "apoe.head()"
   ]
  },
  {
   "cell_type": "markdown",
   "id": "34278410-8e2c-4ae0-b3e4-1ee98154819e",
   "metadata": {},
   "source": [
    "Map of tables:"
   ]
  },
  {
   "cell_type": "code",
   "execution_count": 53,
   "id": "95bc582e-e2d0-4f4b-b778-72042fafd92a",
   "metadata": {},
   "outputs": [],
   "source": [
    "dfs = {\n",
    "    'diag':     diag,\n",
    "    'neuro':    neuro,\n",
    "    'adas':     adas,\n",
    "    'mmse':     mmse,\n",
    "    'cdr':      cdr,\n",
    "    'faq':      faq,\n",
    "    'neurobat': neurobat,\n",
    "    'gds':      gds,\n",
    "    'modhach':  modhach,\n",
    "    'medhist':  medhist,\n",
    "    'npiq':     npiq,\n",
    "    'apoe':     apoe,\n",
    "}"
   ]
  },
  {
   "cell_type": "code",
   "execution_count": 54,
   "id": "168ad193-82c3-4ccd-bfe9-2f99e5a32103",
   "metadata": {},
   "outputs": [
    {
     "name": "stdout",
     "output_type": "stream",
     "text": [
      "DataFrames duplicated PTID: ['diag', 'neuro', 'adas', 'mmse', 'cdr', 'faq', 'neurobat', 'gds', 'medhist', 'npiq']\n"
     ]
    }
   ],
   "source": [
    "dup_dfs = [name for name, df in dfs.items() \n",
    "               if df['PTID'].duplicated().any()]\n",
    "\n",
    "print(\"DataFrames duplicated PTID:\", dup_dfs)"
   ]
  },
  {
   "cell_type": "code",
   "execution_count": 55,
   "id": "29b53b9e-5c66-40ac-a028-d7b6e748a3f9",
   "metadata": {},
   "outputs": [],
   "source": [
    "mmse = mmse.copy()\n",
    "mmse['VISDATE'] = pd.to_datetime(mmse['VISDATE'])\n",
    "mmse = mmse.sort_values(['RID', 'VISDATE'])\n",
    "mmse = mmse.drop_duplicates(subset='RID', keep='last').reset_index(drop=True)"
   ]
  },
  {
   "cell_type": "code",
   "execution_count": 56,
   "id": "8c21a502-2f36-4054-806a-c45be5927137",
   "metadata": {},
   "outputs": [],
   "source": [
    "adas = adas.copy()\n",
    "adas['VISDATE'] = pd.to_datetime(adas['EXAMDATE'])\n",
    "adas = adas.sort_values(['RID', 'EXAMDATE'])\n",
    "adas = adas.drop_duplicates(subset='RID', keep='last').reset_index(drop=True)"
   ]
  },
  {
   "cell_type": "code",
   "execution_count": 57,
   "id": "125b84aa-44b9-4f6a-b103-005e412208be",
   "metadata": {},
   "outputs": [],
   "source": [
    "neuro = neuro.copy()\n",
    "neuro['VISDATE'] = pd.to_datetime(neuro['VISDATE'])\n",
    "neuro = neuro.sort_values(['RID', 'VISDATE'])\n",
    "neuro = neuro.drop_duplicates(subset='RID', keep='last').reset_index(drop=True)"
   ]
  },
  {
   "cell_type": "code",
   "execution_count": 58,
   "id": "28f3194e-bfc6-4309-8112-e969714df659",
   "metadata": {},
   "outputs": [],
   "source": [
    "cdr = cdr.copy()\n",
    "cdr['VISDATE'] = pd.to_datetime(cdr['VISDATE'])\n",
    "cdr = cdr.sort_values(['RID', 'VISDATE'])\n",
    "cdr = cdr.drop_duplicates(subset='RID', keep='last').reset_index(drop=True)"
   ]
  },
  {
   "cell_type": "code",
   "execution_count": 59,
   "id": "f09cc34e-642c-48f3-a30d-f38b242568d9",
   "metadata": {},
   "outputs": [],
   "source": [
    "faq = faq.copy()\n",
    "faq['VISDATE'] = pd.to_datetime(faq['VISDATE'])\n",
    "faq = faq.sort_values(['RID', 'VISDATE'])\n",
    "faq = faq.drop_duplicates(subset='RID', keep='last').reset_index(drop=True)"
   ]
  },
  {
   "cell_type": "code",
   "execution_count": 60,
   "id": "8cb8cb57-4c08-4703-af66-c2dc4d350789",
   "metadata": {},
   "outputs": [],
   "source": [
    "neurobat = neurobat.copy()\n",
    "neurobat['VISDATE'] = pd.to_datetime(neurobat['VISDATE'])\n",
    "neurobat = neurobat.sort_values(['RID', 'VISDATE'])\n",
    "neurobat = neurobat.drop_duplicates(subset='RID', keep='last').reset_index(drop=True)"
   ]
  },
  {
   "cell_type": "code",
   "execution_count": 61,
   "id": "9b3eafc7-4591-4a60-8313-0c2d838b6f2e",
   "metadata": {},
   "outputs": [],
   "source": [
    "gds = gds.copy()\n",
    "gds['VISDATE'] = pd.to_datetime(gds['VISDATE'])\n",
    "gds = gds.sort_values(['RID', 'VISDATE'])\n",
    "gds = gds.drop_duplicates(subset='RID', keep='last').reset_index(drop=True)"
   ]
  },
  {
   "cell_type": "code",
   "execution_count": 62,
   "id": "d29cc5f3-18d9-43b5-995f-b8153791d8b7",
   "metadata": {},
   "outputs": [],
   "source": [
    "medhist = medhist.copy()\n",
    "medhist['VISDATE'] = pd.to_datetime(medhist['VISDATE'])\n",
    "medhist = medhist.sort_values(['RID', 'VISDATE'])\n",
    "medhist = medhist.drop_duplicates(subset='RID', keep='last').reset_index(drop=True)"
   ]
  },
  {
   "cell_type": "code",
   "execution_count": 63,
   "id": "a482cc59-4087-48f3-9868-9b4dc17ff423",
   "metadata": {},
   "outputs": [],
   "source": [
    "npiq = npiq.copy()\n",
    "npiq['VISDATE'] = pd.to_datetime(npiq['VISDATE'])\n",
    "npiq = npiq.sort_values(['RID', 'VISDATE'])\n",
    "npiq = npiq.drop_duplicates(subset='RID', keep='last').reset_index(drop=True)"
   ]
  },
  {
   "cell_type": "markdown",
   "id": "88450a3c-552c-4d7e-9a94-5cad8ec0669d",
   "metadata": {},
   "source": [
    "Merge:"
   ]
  },
  {
   "cell_type": "code",
   "execution_count": null,
   "id": "2b723910-3d95-4d41-a26b-ef5ea8860ae6",
   "metadata": {},
   "outputs": [],
   "source": [
    "merged = diag.copy()\n",
    "\n",
    "def drop_conflicts(df):\n",
    "    return df.drop(columns=[c for c in [\"VISDATE\", \"EXAMDATE\"] if c in df.columns])\n",
    "\n",
    "dfs = [diag, neuro, adas, mmse, cdr, faq, neurobat, gds, modhach, medhist, npiq, apoe]\n",
    "\n",
    "for df in dfs:\n",
    "    merged = merged.merge(\n",
    "        drop_conflicts(df),\n",
    "        on=[\"RID\", \"PTID\"],\n",
    "        how=\"left\"\n",
    "    )\n",
    "\n",
    "merged.head()"
   ]
  },
  {
   "cell_type": "code",
   "execution_count": null,
   "id": "bbe88aef-59cd-4caa-a15e-c4075aaf5960",
   "metadata": {},
   "outputs": [],
   "source": [
    "merged = merged.drop_duplicates(subset='RID', keep='last').reset_index(drop=True)\n",
    "merged.head()"
   ]
  },
  {
   "cell_type": "code",
   "execution_count": 74,
   "id": "8a6c06fe-bffa-4b9f-ac97-45c659dd2a28",
   "metadata": {},
   "outputs": [
    {
     "data": {
      "text/plain": [
       "Index(['PTID', 'RID', 'label', 'NXVISUAL', 'NXAUDITO', 'NXTREMOR', 'NXCONSCI',\n",
       "       'NXNERVE', 'NXMOTOR', 'NXFINGER', 'NXHEEL', 'NXSENSOR', 'NXTENDON',\n",
       "       'NXPLANTA', 'NXGAIT', 'NXABNORM', 'TOTAL11', 'TOTALMOD', 'MMSCORE',\n",
       "       'CDRSB', 'FAQTOTAL', 'LDELTOTAL', 'LIMMTOTAL', 'GDTOTAL', 'HMSCORE',\n",
       "       'MH4CARD', 'MH5RESP', 'NPISCORE', 'GENOTYPE'],\n",
       "      dtype='object')"
      ]
     },
     "execution_count": 74,
     "metadata": {},
     "output_type": "execute_result"
    }
   ],
   "source": [
    "merged.columns"
   ]
  },
  {
   "cell_type": "code",
   "execution_count": 66,
   "id": "054d391c-5eee-4240-a18c-c91a4e55dcac",
   "metadata": {},
   "outputs": [],
   "source": [
    "merged = merged.drop(columns=[\"EXAMDATE\", \"Diagnosis_Code_y\"])"
   ]
  },
  {
   "cell_type": "code",
   "execution_count": 67,
   "id": "6422bb0e-0080-44c5-a886-cf8a795fad99",
   "metadata": {},
   "outputs": [],
   "source": [
    "merged = merged.rename(columns={'Diagnosis_Code_x': 'label'})"
   ]
  },
  {
   "cell_type": "code",
   "execution_count": 68,
   "id": "eb94d03a-a0dc-4579-bddc-e7795e23b779",
   "metadata": {},
   "outputs": [],
   "source": [
    "# Find columns with more than 70% missing (NaN) values\n",
    "cols_to_drop = merged.columns[merged.isna().sum() / len(merged) > 0.70]\n",
    "merged.drop(columns=cols_to_drop, axis = 1, inplace=True)"
   ]
  },
  {
   "cell_type": "code",
   "execution_count": 69,
   "id": "9d733f46-7adb-4799-9b2d-215b2ef2cb69",
   "metadata": {},
   "outputs": [
    {
     "data": {
      "text/plain": [
       "Index(['PTID', 'RID', 'label', 'NXVISUAL', 'NXAUDITO', 'NXTREMOR', 'NXCONSCI',\n",
       "       'NXNERVE', 'NXMOTOR', 'NXFINGER', 'NXHEEL', 'NXSENSOR', 'NXTENDON',\n",
       "       'NXPLANTA', 'NXGAIT', 'NXABNORM', 'TOTAL11', 'TOTALMOD', 'MMSCORE',\n",
       "       'CDRSB', 'FAQTOTAL', 'LDELTOTAL', 'LIMMTOTAL', 'GDTOTAL', 'HMSCORE',\n",
       "       'MH4CARD', 'MH5RESP', 'NPISCORE', 'GENOTYPE'],\n",
       "      dtype='object')"
      ]
     },
     "execution_count": 69,
     "metadata": {},
     "output_type": "execute_result"
    }
   ],
   "source": [
    "merged.columns"
   ]
  },
  {
   "cell_type": "code",
   "execution_count": null,
   "id": "0f05ef70-173a-4730-b3eb-294353722d9e",
   "metadata": {},
   "outputs": [],
   "source": [
    "merged.head()"
   ]
  },
  {
   "cell_type": "code",
   "execution_count": 77,
   "id": "0f44b459-a6ac-43a5-a254-c68b10eea1ee",
   "metadata": {},
   "outputs": [],
   "source": [
    "merged.to_csv(\"/home/lude14/bachelorarbeit/MRI_CNN/clinical.csv\", index=False)"
   ]
  },
  {
   "cell_type": "markdown",
   "id": "d283810b-b20f-4006-a016-ac3097c7b4c7",
   "metadata": {},
   "source": [
    "No duplicated patients and only the latest exam date taken"
   ]
  },
  {
   "cell_type": "code",
   "execution_count": 2,
   "id": "959dffad-ba50-4316-80d3-0f57f7b28f09",
   "metadata": {},
   "outputs": [],
   "source": [
    "import pandas as pd"
   ]
  },
  {
   "cell_type": "code",
   "execution_count": 3,
   "id": "d0873451-c3b2-400a-951b-364d3c7bf138",
   "metadata": {},
   "outputs": [],
   "source": [
    "df = pd.read_csv(\"/home/lude14/bachelorarbeit/MRI_CNN/clinical.csv\")"
   ]
  },
  {
   "cell_type": "code",
   "execution_count": 4,
   "id": "c25d592f-908a-4d1c-b2f1-793bff81701b",
   "metadata": {},
   "outputs": [],
   "source": [
    "df = df[df.label.isin([0,2])]\n",
    "df.label = df.label.replace({2:1})"
   ]
  },
  {
   "cell_type": "code",
   "execution_count": 5,
   "id": "5b2792f3-312c-4f94-a821-e502bcffc22d",
   "metadata": {},
   "outputs": [
    {
     "data": {
      "text/plain": [
       "array([0, 1])"
      ]
     },
     "execution_count": 5,
     "metadata": {},
     "output_type": "execute_result"
    }
   ],
   "source": [
    "df[\"label\"].unique()"
   ]
  },
  {
   "cell_type": "code",
   "execution_count": 29,
   "id": "23b27f35-23fa-4029-a9f6-e3113a0e0e5d",
   "metadata": {},
   "outputs": [],
   "source": [
    "df = df.drop(columns=[col for col in drop_cols if col in df.columns])"
   ]
  },
  {
   "cell_type": "code",
   "execution_count": 6,
   "id": "a0091d61-85c1-4035-a5af-6f946a421e1f",
   "metadata": {},
   "outputs": [],
   "source": [
    "drop_cols = [\"TOTAL11\", \"TOTALMOD\", \"MH5RESP\", \"GENOTYPE\", \"HMSCORE\", \"MH4CARD\", \"GDTOTAL\", \"NPISCORE\", \t\n",
    "             \"FAQTOTAL\", \"LDELTOTAL\", \"LIMMTOTAL\", \"CDRSB\"]"
   ]
  },
  {
   "cell_type": "code",
   "execution_count": 30,
   "id": "33659b8c-4a3b-4844-b342-1cd2b020dbe5",
   "metadata": {},
   "outputs": [
    {
     "data": {
      "text/plain": [
       "Index(['PTID', 'RID', 'label', 'NXVISUAL', 'NXAUDITO', 'NXTREMOR', 'NXCONSCI',\n",
       "       'NXNERVE', 'NXMOTOR', 'NXFINGER', 'NXHEEL', 'NXSENSOR', 'NXTENDON',\n",
       "       'NXPLANTA', 'NXGAIT', 'NXABNORM', 'MMSCORE'],\n",
       "      dtype='object')"
      ]
     },
     "execution_count": 30,
     "metadata": {},
     "output_type": "execute_result"
    }
   ],
   "source": [
    "df.columns"
   ]
  },
  {
   "cell_type": "code",
   "execution_count": 9,
   "id": "6e09ede2-9ccf-453c-b4c2-0da755291d1d",
   "metadata": {},
   "outputs": [],
   "source": [
    "df.to_csv(\"/home/lude14/bachelorarbeit/MRI_CNN/clinical-maddi-2.csv\", index=False)"
   ]
  },
  {
   "cell_type": "code",
   "execution_count": 10,
   "id": "5ba6ce2b-70ec-4853-96dc-0171be68fe6f",
   "metadata": {},
   "outputs": [
    {
     "data": {
      "text/plain": [
       "17"
      ]
     },
     "execution_count": 10,
     "metadata": {},
     "output_type": "execute_result"
    }
   ],
   "source": [
    "len(df.columns)"
   ]
  }
 ],
 "metadata": {
  "kernelspec": {
   "display_name": "Python [conda env:conda_envs-compute-conda]",
   "language": "python",
   "name": "conda-env-conda_envs-compute-conda-py"
  },
  "language_info": {
   "codemirror_mode": {
    "name": "ipython",
    "version": 3
   },
   "file_extension": ".py",
   "mimetype": "text/x-python",
   "name": "python",
   "nbconvert_exporter": "python",
   "pygments_lexer": "ipython3",
   "version": "3.10.8"
  }
 },
 "nbformat": 4,
 "nbformat_minor": 5
}
