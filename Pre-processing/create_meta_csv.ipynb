{
 "cells": [
  {
   "cell_type": "markdown",
   "id": "e9005a10-e893-4366-8ef5-c9405e1b0d97",
   "metadata": {},
   "source": [
    "## Create \"meta_csv\" from metadata and diagnose files:"
   ]
  },
  {
   "cell_type": "code",
   "execution_count": 2,
   "id": "9b991bad-70f5-49e5-82a3-3c0e03f31ce6",
   "metadata": {},
   "outputs": [],
   "source": [
    "import pandas as pd"
   ]
  },
  {
   "cell_type": "code",
   "execution_count": 8,
   "id": "27654a4f-7725-4ea9-b15b-6446456d0dc2",
   "metadata": {},
   "outputs": [],
   "source": [
    "meta_df = pd.read_csv(\"/sc-projects/sc-proj-ukb-cvd/projects/theses/data/adni/Clinical_Data/MRI/MRI_MRIMETA_13Apr2025.csv\")\n",
    "diag_df = pd.read_csv(\"/sc-projects/sc-proj-ukb-cvd/projects/theses/data/adni/Clinical_Data/MRI/MRI_DXSUM_13Apr2025.csv\")"
   ]
  },
  {
   "cell_type": "markdown",
   "id": "a506c933-d306-4376-b367-937947303fb3",
   "metadata": {},
   "source": [
    "Duplicate entries for PTIDs:"
   ]
  },
  {
   "cell_type": "code",
   "execution_count": null,
   "id": "28b8d63e-2a4e-40a5-953a-37c9834d47cd",
   "metadata": {},
   "outputs": [],
   "source": [
    "print(\"Duplicate Patients: \", meta_df['PTID'].value_counts()[lambda x: x > 1])"
   ]
  },
  {
   "cell_type": "markdown",
   "id": "d6df1e5e-fee4-4bac-95cc-b3250afb1665",
   "metadata": {},
   "source": [
    "Sort by patient ID and exam date:"
   ]
  },
  {
   "cell_type": "code",
   "execution_count": null,
   "id": "346ce403-43b3-4c39-9da6-f199c391ef87",
   "metadata": {},
   "outputs": [],
   "source": [
    "meta_df[\"EXAMDATE\"] = pd.to_datetime(meta_df[\"EXAMDATE\"])\n",
    "meta_df = meta_df.dropna(subset=[\"EXAMDATE\"])\n",
    "\n",
    "# Sort by date, most recent first\n",
    "meta_df_sorted = meta_df.sort_values(by=[\"RID\", \"EXAMDATE\"], ascending=[True, False])\n",
    "meta_df_sorted"
   ]
  },
  {
   "cell_type": "markdown",
   "id": "9d8feee2-8e5c-4ea6-99b1-52c0547fb753",
   "metadata": {},
   "source": [
    "Set the diagnose to match the closest exam date"
   ]
  },
  {
   "cell_type": "code",
   "execution_count": 12,
   "id": "1d0ec4b6-2a3a-4e73-b018-4706178f2957",
   "metadata": {},
   "outputs": [],
   "source": [
    "diag_df[\"EXAMDATE\"] = pd.to_datetime(diag_df[\"EXAMDATE\"])"
   ]
  },
  {
   "cell_type": "code",
   "execution_count": 15,
   "id": "f872da85-d74a-40b0-9508-e90b988088a7",
   "metadata": {},
   "outputs": [],
   "source": [
    "def find_closest_diagnosis(row):\n",
    "    subject_dx = diag_df[diag_df[\"RID\"] == row[\"RID\"]].copy()\n",
    "    subject_dx = subject_dx.dropna(subset=[\"DIAGNOSIS\", \"EXAMDATE\"])\n",
    "\n",
    "    if subject_dx.empty:\n",
    "        return None\n",
    "\n",
    "    subject_dx[\"timediff\"] = (subject_dx[\"EXAMDATE\"] - row[\"EXAMDATE\"]).abs()\n",
    "    closest_idx = subject_dx[\"timediff\"].idxmin()\n",
    "    return subject_dx.loc[closest_idx, \"DIAGNOSIS\"]\n",
    "\n",
    "meta_df = meta_df.copy()\n",
    "meta_df[\"DIAGNOSIS\"] = meta_df.apply(find_closest_diagnosis, axis=1)"
   ]
  },
  {
   "cell_type": "code",
   "execution_count": 16,
   "id": "c906c62d-de6d-4fe2-ac1d-9bf31a8e52e3",
   "metadata": {},
   "outputs": [],
   "source": [
    "meta_clean = meta_df.dropna(subset=[\"DIAGNOSIS\"])"
   ]
  },
  {
   "cell_type": "markdown",
   "id": "49d99fd3-3e32-4f4d-b9f9-6d65951271a9",
   "metadata": {},
   "source": [
    "Map diagnosis numbers: 1 → 0 (CN), 2 → 1 (MCI), 3 → 2 (AD)"
   ]
  },
  {
   "cell_type": "code",
   "execution_count": 17,
   "id": "762bf9e2-9843-4053-9e6c-111263dfbce1",
   "metadata": {},
   "outputs": [],
   "source": [
    "diagnosis_map = {1.0: 0, 2.0: 1, 3.0: 2}"
   ]
  },
  {
   "cell_type": "code",
   "execution_count": 18,
   "id": "06677ef7-1770-4c7e-b5c7-07a265fcace4",
   "metadata": {},
   "outputs": [],
   "source": [
    "meta_clean = meta_clean.copy()\n",
    "meta_clean[\"Diagnosis_Code\"] = meta_clean[\"DIAGNOSIS\"].map(diagnosis_map)"
   ]
  },
  {
   "cell_type": "code",
   "execution_count": 20,
   "id": "97fb44f3-9329-4fa4-88d3-4a15df9d146e",
   "metadata": {},
   "outputs": [],
   "source": [
    "meta_clean.to_csv(\"MRI_DIAGNOSIS.csv\", index=False)"
   ]
  },
  {
   "cell_type": "markdown",
   "id": "0c4df6e6-4719-41aa-b9e2-03cf6f301b48",
   "metadata": {},
   "source": [
    "Check for class imbalance:"
   ]
  },
  {
   "cell_type": "code",
   "execution_count": 3,
   "id": "95ba6d17-a0d0-46c7-8e48-5002221daa02",
   "metadata": {},
   "outputs": [],
   "source": [
    "df = pd.read_csv(\"MRI_DIAGNOSIS.csv\")"
   ]
  },
  {
   "cell_type": "code",
   "execution_count": 23,
   "id": "30356524-17d5-4643-bdd4-5aaa887a9781",
   "metadata": {},
   "outputs": [
    {
     "name": "stdout",
     "output_type": "stream",
     "text": [
      "Diagnosis_Code\n",
      "1    1452\n",
      "0    1122\n",
      "2    1033\n",
      "Name: count, dtype: int64\n",
      "Total: 3607 scans\n"
     ]
    }
   ],
   "source": [
    "label_counts = df[\"Diagnosis_Code\"].value_counts()\n",
    "print(label_counts)\n",
    "print(\"Total:\", label_counts.sum(), \"scans\")"
   ]
  },
  {
   "cell_type": "code",
   "execution_count": 4,
   "id": "b81ddb81-e705-4105-a2dd-e27aeedf4ec2",
   "metadata": {},
   "outputs": [],
   "source": [
    "df = df[df[\"Diagnosis_Code\"].isin([0, 2])].copy()\n",
    "df[\"Diagnosis_Code\"] = df[\"Diagnosis_Code\"].map({0: 0, 2: 1})"
   ]
  },
  {
   "cell_type": "code",
   "execution_count": 5,
   "id": "f7750503-a44a-4d11-8e10-3768802a2606",
   "metadata": {},
   "outputs": [],
   "source": [
    "grouped = df.groupby(\"PTID\")"
   ]
  },
  {
   "cell_type": "code",
   "execution_count": null,
   "id": "c304d32a-3437-40c5-91f1-208c42b37e01",
   "metadata": {},
   "outputs": [],
   "source": [
    "label_counts = grouped[\"Diagnosis_Code\"].nunique()\n",
    "label_counts"
   ]
  },
  {
   "cell_type": "code",
   "execution_count": 9,
   "id": "f7f5189f-4760-4e94-8826-039bf1e86e0d",
   "metadata": {},
   "outputs": [
    {
     "name": "stdout",
     "output_type": "stream",
     "text": [
      "PTIDs with more than one label: 11\n"
     ]
    }
   ],
   "source": [
    "mixed_label_ptids = label_counts[label_counts > 1]\n",
    "print(f\"PTIDs with more than one label: {len(mixed_label_ptids)}\")"
   ]
  },
  {
   "cell_type": "code",
   "execution_count": null,
   "id": "4d0a9552-c309-4fac-8af3-329976e8c08b",
   "metadata": {},
   "outputs": [],
   "source": [
    "single_label_ptids = label_counts[label_counts == 1]\n",
    "single_label_ptids"
   ]
  },
  {
   "cell_type": "code",
   "execution_count": 13,
   "id": "3f14d865-062b-4d29-9f4d-9812aa6acf96",
   "metadata": {},
   "outputs": [],
   "source": [
    "duplicated_ptids = df[\"PTID\"].value_counts()[lambda x: x > 1].index\n",
    "duplicated_df = df[df[\"PTID\"].isin(duplicated_ptids)]\n",
    "duplicated_grouped = duplicated_df.groupby(\"PTID\")[\"Diagnosis_Code\"].nunique()\n",
    "pure_duplicated_ptids = duplicated_grouped[duplicated_grouped == 1].index"
   ]
  },
  {
   "cell_type": "code",
   "execution_count": 14,
   "id": "eee119ee-291f-4049-a319-bd96964a59bb",
   "metadata": {},
   "outputs": [
    {
     "name": "stdout",
     "output_type": "stream",
     "text": [
      "Duplicated PTIDs with only label 0: 178\n",
      "Duplicated PTIDs with only label 1: 259\n"
     ]
    }
   ],
   "source": [
    "pure_dup_df = df[df[\"PTID\"].isin(pure_duplicated_ptids)]\n",
    "pure_dup_counts = pure_dup_df.groupby(\"PTID\").first()[\"Diagnosis_Code\"].value_counts()\n",
    "print(f\"Duplicated PTIDs with only label 0: {pure_dup_counts.get(0, 0)}\")\n",
    "print(f\"Duplicated PTIDs with only label 1: {pure_dup_counts.get(1, 0)}\")"
   ]
  },
  {
   "cell_type": "code",
   "execution_count": 15,
   "id": "0e03b8d1-7707-4117-9e2f-89c62454e1b6",
   "metadata": {},
   "outputs": [],
   "source": [
    "ptid_counts = df[\"PTID\"].value_counts()\n",
    "single_scan_ptids = ptid_counts[ptid_counts == 1].index\n",
    "single_scan_df = df[df[\"PTID\"].isin(single_scan_ptids)]"
   ]
  },
  {
   "cell_type": "code",
   "execution_count": 16,
   "id": "3dfd661f-1841-468c-bc68-0a66b3e8c38d",
   "metadata": {},
   "outputs": [
    {
     "name": "stdout",
     "output_type": "stream",
     "text": [
      "Non-duplicated PTIDs with label 0: 8\n",
      "Non-duplicated PTIDs with label 1: 53\n"
     ]
    }
   ],
   "source": [
    "single_label_distribution = single_scan_df[\"Diagnosis_Code\"].value_counts()\n",
    "print(f\"Non-duplicated PTIDs with label 0: {single_label_distribution.get(0, 0)}\")\n",
    "print(f\"Non-duplicated PTIDs with label 1: {single_label_distribution.get(1, 0)}\")"
   ]
  },
  {
   "cell_type": "code",
   "execution_count": 17,
   "id": "bfa0d11e-1f32-443d-b6eb-7d063b7c7e79",
   "metadata": {},
   "outputs": [],
   "source": [
    "ptid_label_df = df.groupby(\"PTID\").first().reset_index()"
   ]
  },
  {
   "cell_type": "code",
   "execution_count": 19,
   "id": "c3184b4a-d209-4950-afa9-75266ffcaed9",
   "metadata": {},
   "outputs": [
    {
     "name": "stdout",
     "output_type": "stream",
     "text": [
      "Unique PTIDs per label:\n",
      "CN (0): 197\n",
      "AD (1): 312\n"
     ]
    }
   ],
   "source": [
    "ptid_counts = ptid_label_df[\"Diagnosis_Code\"].value_counts()\n",
    "print(\"Unique PTIDs per label:\")\n",
    "print(f\"CN (0): {ptid_counts.get(0, 0)}\")\n",
    "print(f\"AD (1): {ptid_counts.get(1, 0)}\")"
   ]
  },
  {
   "cell_type": "code",
   "execution_count": 20,
   "id": "8f2fa2f7-77dc-4652-a478-ed56e82fb5ef",
   "metadata": {},
   "outputs": [
    {
     "name": "stdout",
     "output_type": "stream",
     "text": [
      "Label distribution for latest scan per PTID:\n",
      "Diagnosis_Code\n",
      "1    323\n",
      "0    186\n",
      "Name: count, dtype: int64\n"
     ]
    }
   ],
   "source": [
    "df = pd.read_csv(\"MRI_DIAGNOSIS.csv\", usecols=[\"PTID\", \"EXAMDATE\", \"Diagnosis_Code\"])\n",
    "df = df[df[\"Diagnosis_Code\"].isin([0, 2])].copy()\n",
    "df[\"Diagnosis_Code\"] = df[\"Diagnosis_Code\"].map({0: 0, 2: 1})\n",
    "df[\"EXAMDATE\"] = pd.to_datetime(df[\"EXAMDATE\"])\n",
    "\n",
    "latest_scans = df.sort_values(\"EXAMDATE\").groupby(\"PTID\").tail(1)\n",
    "print(\"Label distribution for latest scan per PTID:\")\n",
    "print(latest_scans[\"Diagnosis_Code\"].value_counts())"
   ]
  }
 ],
 "metadata": {
  "kernelspec": {
   "display_name": "Python [conda env:conda_envs-compute-conda]",
   "language": "python",
   "name": "conda-env-conda_envs-compute-conda-py"
  },
  "language_info": {
   "codemirror_mode": {
    "name": "ipython",
    "version": 3
   },
   "file_extension": ".py",
   "mimetype": "text/x-python",
   "name": "python",
   "nbconvert_exporter": "python",
   "pygments_lexer": "ipython3",
   "version": "3.10.8"
  }
 },
 "nbformat": 4,
 "nbformat_minor": 5
}
