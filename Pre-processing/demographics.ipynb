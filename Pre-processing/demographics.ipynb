{
 "cells": [
  {
   "cell_type": "markdown",
   "id": "945a0730-45cd-482e-846e-810ffceb3bf3",
   "metadata": {},
   "source": [
    "Patient Demographics"
   ]
  },
  {
   "cell_type": "code",
   "execution_count": 2,
   "id": "11032dbe-8817-4166-ae1f-f33a07e6d3ce",
   "metadata": {},
   "outputs": [],
   "source": [
    "import pandas as pd"
   ]
  },
  {
   "cell_type": "code",
   "execution_count": 19,
   "id": "e80be1af-0ca3-4d17-a71c-c0fabc3760fd",
   "metadata": {},
   "outputs": [],
   "source": [
    "demo = pd.read_csv(\"/sc-projects/sc-proj-ukb-cvd/projects/theses/data/adni/Clinical_Data/MRI/MRI_PTDEMOG_13Apr2025.csv\")"
   ]
  },
  {
   "cell_type": "code",
   "execution_count": 5,
   "id": "3ce9ce98-2483-41e1-92ce-b81e45e28060",
   "metadata": {},
   "outputs": [
    {
     "data": {
      "text/plain": [
       "Index(['PHASE', 'PTID', 'RID', 'VISCODE', 'VISCODE2', 'VISDATE', 'PTSOURCE',\n",
       "       'PTGENDER', 'PTDOB', 'PTDOBYY', 'PTHAND', 'PTMARRY', 'PTEDUCAT',\n",
       "       'PTWORKHS', 'PTWORK', 'PTNOTRT', 'PTRTYR', 'PTHOME', 'PTTLANG',\n",
       "       'PTPLANG', 'PTADBEG', 'PTCOGBEG', 'PTADDX', 'PTETHCAT', 'PTRACCAT',\n",
       "       'PTIDENT', 'PTORIENT', 'PTORIENTOT', 'PTENGSPK', 'PTNLANG',\n",
       "       'PTENGSPKAGE', 'PTCLANG', 'PTLANGSP', 'PTLANGWR', 'PTSPTIM',\n",
       "       'PTSPOTTIM', 'PTLANGPR1', 'PTLANGSP1', 'PTLANGRD1', 'PTLANGWR1',\n",
       "       'PTLANGUN1', 'PTLANGPR2', 'PTLANGSP2', 'PTLANGRD2', 'PTLANGWR2',\n",
       "       'PTLANGUN2', 'PTLANGPR3', 'PTLANGSP3', 'PTLANGRD3', 'PTLANGWR3',\n",
       "       'PTLANGUN3', 'PTLANGPR4', 'PTLANGSP4', 'PTLANGRD4', 'PTLANGWR4',\n",
       "       'PTLANGUN4', 'PTLANGPR5', 'PTLANGSP5', 'PTLANGRD5', 'PTLANGWR5',\n",
       "       'PTLANGUN5', 'PTLANGPR6', 'PTLANGSP6', 'PTLANGRD6', 'PTLANGWR6',\n",
       "       'PTLANGUN6', 'PTLANGTTL', 'PTETHCATH', 'PTASIAN', 'PTOPI', 'PTBORN',\n",
       "       'PTBIRPL', 'PTIMMAGE', 'PTIMMWHY', 'PTBIRPR', 'PTBIRGR', 'ID', 'SITEID',\n",
       "       'USERDATE', 'USERDATE2', 'DD_CRF_VERSION_LABEL', 'LANGUAGE_CODE',\n",
       "       'HAS_QC_ERROR', 'update_stamp'],\n",
       "      dtype='object')"
      ]
     },
     "execution_count": 5,
     "metadata": {},
     "output_type": "execute_result"
    }
   ],
   "source": [
    "demo.columns"
   ]
  },
  {
   "cell_type": "code",
   "execution_count": 24,
   "id": "ef039282-5156-4a22-8157-72f2ee4ae5ab",
   "metadata": {},
   "outputs": [],
   "source": [
    "keep_cols = ['PTGENDER', 'PTDOB', 'PHASE', 'PTID', 'RID', 'VISDATE']\n",
    "demo = demo[keep_cols].copy()"
   ]
  },
  {
   "cell_type": "code",
   "execution_count": null,
   "id": "07c54c2b-0f7b-4025-acda-bc6d9a7172ab",
   "metadata": {},
   "outputs": [],
   "source": [
    "demo.head()"
   ]
  },
  {
   "cell_type": "code",
   "execution_count": 26,
   "id": "e433082b-87d2-44e5-9e98-3e213cbf8049",
   "metadata": {},
   "outputs": [],
   "source": [
    "demo = demo.dropna(subset=[\"PTDOB\"])"
   ]
  },
  {
   "cell_type": "code",
   "execution_count": 28,
   "id": "09eceb43-7418-4342-a34d-1ee1ee920a42",
   "metadata": {},
   "outputs": [],
   "source": [
    "demo[\"VISDATE\"] = pd.to_datetime(demo[\"VISDATE\"], errors=\"coerce\")\n",
    "\n",
    "demo[\"PTDOB\"] = pd.to_datetime(demo[\"PTDOB\"], format=\"%m/%Y\", errors=\"coerce\") + pd.offsets.Day(14)\n",
    "\n",
    "demo[\"AGE\"] = (demo[\"VISDATE\"] - demo[\"PTDOB\"]).dt.days / 365.25\n",
    "\n",
    "demo[\"AGE\"] = demo[\"AGE\"].astype(int)"
   ]
  },
  {
   "cell_type": "code",
   "execution_count": 30,
   "id": "35fa1996-c74c-48e7-b8b8-0b6ab7307bc7",
   "metadata": {},
   "outputs": [],
   "source": [
    "clinical = pd.read_csv(\"/home/lude14/bachelorarbeit/MRI_CNN/clinical.csv\")"
   ]
  },
  {
   "cell_type": "code",
   "execution_count": 31,
   "id": "b64255b3-e4b7-42cf-a12c-dd0822cd31b1",
   "metadata": {},
   "outputs": [
    {
     "data": {
      "text/plain": [
       "Index(['PTID', 'RID', 'label', 'NXVISUAL', 'NXAUDITO', 'NXTREMOR', 'NXCONSCI',\n",
       "       'NXNERVE', 'NXMOTOR', 'NXFINGER', 'NXHEEL', 'NXSENSOR', 'NXTENDON',\n",
       "       'NXPLANTA', 'NXGAIT', 'NXABNORM', 'TOTAL11', 'TOTALMOD', 'MMSCORE',\n",
       "       'CDRSB', 'FAQTOTAL', 'LDELTOTAL', 'LIMMTOTAL', 'GDTOTAL', 'HMSCORE',\n",
       "       'MH4CARD', 'MH5RESP', 'NPISCORE', 'GENOTYPE'],\n",
       "      dtype='object')"
      ]
     },
     "execution_count": 31,
     "metadata": {},
     "output_type": "execute_result"
    }
   ],
   "source": [
    "clinical.columns"
   ]
  },
  {
   "cell_type": "code",
   "execution_count": 32,
   "id": "ee38f2ff-4c4b-4c25-bd77-fc2d2b0bb7f6",
   "metadata": {},
   "outputs": [],
   "source": [
    "merged = demo.merge(clinical, on=\"PTID\", how=\"inner\")"
   ]
  },
  {
   "cell_type": "code",
   "execution_count": 33,
   "id": "1aec4e31-c1a6-40c1-a286-6ead976c1a23",
   "metadata": {},
   "outputs": [
    {
     "data": {
      "text/plain": [
       "Index(['PTGENDER', 'PTDOB', 'PHASE', 'PTID', 'RID_x', 'VISDATE', 'AGE',\n",
       "       'RID_y', 'label', 'NXVISUAL', 'NXAUDITO', 'NXTREMOR', 'NXCONSCI',\n",
       "       'NXNERVE', 'NXMOTOR', 'NXFINGER', 'NXHEEL', 'NXSENSOR', 'NXTENDON',\n",
       "       'NXPLANTA', 'NXGAIT', 'NXABNORM', 'TOTAL11', 'TOTALMOD', 'MMSCORE',\n",
       "       'CDRSB', 'FAQTOTAL', 'LDELTOTAL', 'LIMMTOTAL', 'GDTOTAL', 'HMSCORE',\n",
       "       'MH4CARD', 'MH5RESP', 'NPISCORE', 'GENOTYPE'],\n",
       "      dtype='object')"
      ]
     },
     "execution_count": 33,
     "metadata": {},
     "output_type": "execute_result"
    }
   ],
   "source": [
    "merged.columns"
   ]
  },
  {
   "cell_type": "code",
   "execution_count": 34,
   "id": "2aa1f25c-dfdb-4e0c-9852-8c47b0b6ce7a",
   "metadata": {},
   "outputs": [],
   "source": [
    "keep_cols = ['PTGENDER', 'AGE', 'PHASE', 'label', 'PTID']\n",
    "demo = merged[keep_cols].copy()"
   ]
  },
  {
   "cell_type": "code",
   "execution_count": null,
   "id": "e422b0ae-e3b1-44db-b56b-7ac85e7600cd",
   "metadata": {},
   "outputs": [],
   "source": [
    "demo.head()"
   ]
  },
  {
   "cell_type": "code",
   "execution_count": 37,
   "id": "38120e49-6f8a-4b26-824f-d98cb49ac089",
   "metadata": {},
   "outputs": [],
   "source": [
    "demo = demo[demo.label.isin([0,2])]\n",
    "demo.label = demo.label.replace({2:1})"
   ]
  },
  {
   "cell_type": "code",
   "execution_count": 44,
   "id": "61615450-31d1-470c-9510-d0ab387c5d33",
   "metadata": {},
   "outputs": [],
   "source": [
    "demo.to_csv(\"/home/lude14/bachelorarbeit/MRI_CNN/demographics.csv\", index=False)"
   ]
  },
  {
   "cell_type": "code",
   "execution_count": 107,
   "id": "f41c370b-ed78-4995-8d94-062e84cbf0ad",
   "metadata": {},
   "outputs": [
    {
     "data": {
      "text/plain": [
       "PHASE\n",
       "ADNI1     65.199450\n",
       "ADNI2     18.844567\n",
       "ADNIGO    14.855571\n",
       "ADNI4      1.100413\n",
       "Name: count, dtype: float64"
      ]
     },
     "execution_count": 107,
     "metadata": {},
     "output_type": "execute_result"
    }
   ],
   "source": [
    "demo[\"PHASE\"].value_counts() / len(demo[\"PHASE\"]) * 100"
   ]
  },
  {
   "cell_type": "code",
   "execution_count": 49,
   "id": "da5b247e-018c-40df-9d61-72c2245171ef",
   "metadata": {},
   "outputs": [
    {
     "data": {
      "text/plain": [
       "PTGENDER\n",
       "1.0    368\n",
       "2.0    359\n",
       "Name: count, dtype: int64"
      ]
     },
     "execution_count": 49,
     "metadata": {},
     "output_type": "execute_result"
    }
   ],
   "source": [
    "# 1 = Male, 2 = Female\n",
    "demo[\"PTGENDER\"].value_counts()"
   ]
  },
  {
   "cell_type": "code",
   "execution_count": 56,
   "id": "4a2162bd-ddcb-4fb1-99b5-2b46541f9e81",
   "metadata": {},
   "outputs": [
    {
     "data": {
      "text/plain": [
       "label\n",
       "1    448\n",
       "0    279\n",
       "Name: count, dtype: int64"
      ]
     },
     "execution_count": 56,
     "metadata": {},
     "output_type": "execute_result"
    }
   ],
   "source": [
    "# 1 = AD, 0 = CN\n",
    "demo[\"label\"].value_counts()"
   ]
  },
  {
   "cell_type": "code",
   "execution_count": 109,
   "id": "164739cb-b9b3-449c-8f6e-66b76ee1f433",
   "metadata": {},
   "outputs": [
    {
     "data": {
      "text/plain": [
       "label\n",
       "1    61.623109\n",
       "0    38.376891\n",
       "Name: count, dtype: float64"
      ]
     },
     "execution_count": 109,
     "metadata": {},
     "output_type": "execute_result"
    }
   ],
   "source": [
    "demo[\"label\"].value_counts() / len(demo[\"label\"]) * 100"
   ]
  },
  {
   "cell_type": "code",
   "execution_count": 85,
   "id": "61e77b81-8a20-4234-9691-c41ef668ed8b",
   "metadata": {},
   "outputs": [],
   "source": [
    "ad = demo[demo[\"label\"] == 1].copy()\n",
    "cd = demo[demo[\"label\"] == 0].copy()"
   ]
  },
  {
   "cell_type": "code",
   "execution_count": 97,
   "id": "3c7a8ab8-8f6d-4d66-97db-fffd664afa92",
   "metadata": {},
   "outputs": [
    {
     "data": {
      "text/plain": [
       "PTGENDER\n",
       "2.0    53.405018\n",
       "1.0    46.594982\n",
       "Name: count, dtype: float64"
      ]
     },
     "execution_count": 97,
     "metadata": {},
     "output_type": "execute_result"
    }
   ],
   "source": [
    "(cn[\"PTGENDER\"].value_counts() / len(cn)) * 100"
   ]
  },
  {
   "cell_type": "code",
   "execution_count": 100,
   "id": "6067d0fa-6908-4090-b096-c6a4a63e9f6f",
   "metadata": {},
   "outputs": [
    {
     "data": {
      "text/plain": [
       "PTGENDER\n",
       "1.0    53.125\n",
       "2.0    46.875\n",
       "Name: count, dtype: float64"
      ]
     },
     "execution_count": 100,
     "metadata": {},
     "output_type": "execute_result"
    }
   ],
   "source": [
    "(ad[\"PTGENDER\"].value_counts() / len(ad)) * 100"
   ]
  },
  {
   "cell_type": "code",
   "execution_count": 102,
   "id": "2f5b5a08-1baa-4baa-85ab-63961cf7f7f1",
   "metadata": {},
   "outputs": [
    {
     "data": {
      "text/plain": [
       "(75.92410714285714, 6.957432033341174)"
      ]
     },
     "execution_count": 102,
     "metadata": {},
     "output_type": "execute_result"
    }
   ],
   "source": [
    "ad[\"AGE\"].mean(), ad[\"AGE\"].std()"
   ]
  },
  {
   "cell_type": "code",
   "execution_count": 103,
   "id": "71855d12-f97e-418f-b42a-d98c55eee379",
   "metadata": {},
   "outputs": [
    {
     "data": {
      "text/plain": [
       "(77.91397849462365, 6.438959510842546)"
      ]
     },
     "execution_count": 103,
     "metadata": {},
     "output_type": "execute_result"
    }
   ],
   "source": [
    "cn[\"AGE\"].mean(), cn[\"AGE\"].std()"
   ]
  }
 ],
 "metadata": {
  "kernelspec": {
   "display_name": "Python [conda env:conda_envs-compute-conda]",
   "language": "python",
   "name": "conda-env-conda_envs-compute-conda-py"
  },
  "language_info": {
   "codemirror_mode": {
    "name": "ipython",
    "version": 3
   },
   "file_extension": ".py",
   "mimetype": "text/x-python",
   "name": "python",
   "nbconvert_exporter": "python",
   "pygments_lexer": "ipython3",
   "version": "3.10.8"
  }
 },
 "nbformat": 4,
 "nbformat_minor": 5
}
